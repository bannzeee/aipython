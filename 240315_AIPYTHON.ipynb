{
  "nbformat": 4,
  "nbformat_minor": 0,
  "metadata": {
    "colab": {
      "provenance": []
    },
    "kernelspec": {
      "name": "python3",
      "display_name": "Python 3"
    },
    "language_info": {
      "name": "python"
    }
  },
  "cells": [
    {
      "cell_type": "markdown",
      "source": [
        "**두 수를 입력받아서 합을 출력하는 프로그램**"
      ],
      "metadata": {
        "id": "Fp1GchP2_z5a"
      }
    },
    {
      "cell_type": "code",
      "execution_count": 1,
      "metadata": {
        "colab": {
          "base_uri": "https://localhost:8080/"
        },
        "id": "b0diVJRv-H-A",
        "outputId": "beffcf19-f764-46a9-a107-8fb0ec736903"
      },
      "outputs": [
        {
          "output_type": "stream",
          "name": "stdout",
          "text": [
            "두 정수 A와 B를 입력하세요 : 1 2\n",
            "두 정수의 합은 3\n"
          ]
        }
      ],
      "source": [
        "A, B = map(int, input(\"두 정수 A와 B를 입력하세요 : \").split())\n",
        "result = A + B\n",
        "print(\"두 정수의 합은\",result)"
      ]
    },
    {
      "cell_type": "code",
      "source": [
        "print(\"Hello Python\")"
      ],
      "metadata": {
        "colab": {
          "base_uri": "https://localhost:8080/"
        },
        "id": "3zHwkZVd_eQT",
        "outputId": "ee4bf876-2e83-40f4-ad08-73feef0e515f"
      },
      "execution_count": 2,
      "outputs": [
        {
          "output_type": "stream",
          "name": "stdout",
          "text": [
            "Hello Python\n"
          ]
        }
      ]
    },
    {
      "cell_type": "code",
      "source": [],
      "metadata": {
        "id": "rRCLAAJO_lMD"
      },
      "execution_count": null,
      "outputs": []
    }
  ]
}