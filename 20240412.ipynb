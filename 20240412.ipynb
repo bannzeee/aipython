{
  "nbformat": 4,
  "nbformat_minor": 0,
  "metadata": {
    "colab": {
      "provenance": []
    },
    "kernelspec": {
      "name": "python3",
      "display_name": "Python 3"
    },
    "language_info": {
      "name": "python"
    }
  },
  "cells": [
    {
      "cell_type": "code",
      "execution_count": null,
      "metadata": {
        "id": "W7gW-kTl4CMr"
      },
      "outputs": [],
      "source": []
    },
    {
      "cell_type": "markdown",
      "source": [
        "1. 다음 리스트에서 \"apple\" 요소를 출력하세요"
      ],
      "metadata": {
        "id": "jTMishPCCZV4"
      }
    },
    {
      "cell_type": "code",
      "source": [
        "fruits = [\"banana\",\"apple\",\"orange\",\"cherry\"]\n",
        "print(fruits[1])"
      ],
      "metadata": {
        "colab": {
          "base_uri": "https://localhost:8080/"
        },
        "id": "GnhgwxgiCg6X",
        "outputId": "b3a526a4-5abe-4058-d269-e8257522bb13"
      },
      "execution_count": 1,
      "outputs": [
        {
          "output_type": "stream",
          "name": "stdout",
          "text": [
            "apple\n"
          ]
        }
      ]
    },
    {
      "cell_type": "markdown",
      "source": [
        "2. 마지막 요소를 출렧하세요"
      ],
      "metadata": {
        "id": "kBMM01SyCpMu"
      }
    },
    {
      "cell_type": "code",
      "source": [
        "numbers = [10,20,30,40,50]\n",
        "print(numbers[-1])\n"
      ],
      "metadata": {
        "colab": {
          "base_uri": "https://localhost:8080/"
        },
        "id": "0san77WuCsEW",
        "outputId": "55502bab-4068-4b5e-9365-fe4e717709a7"
      },
      "execution_count": 2,
      "outputs": [
        {
          "output_type": "stream",
          "name": "stdout",
          "text": [
            "50\n"
          ]
        }
      ]
    },
    {
      "cell_type": "markdown",
      "source": [
        "3. \"banana\" 요소를 \"grape\"로 변경하세요"
      ],
      "metadata": {
        "id": "8pZJ9MkbCw-O"
      }
    },
    {
      "cell_type": "code",
      "source": [
        "fruits = [\"apple\",\"banana\",\"cherry\"]\n",
        "fruits[1] = \"grape\"\n",
        "print(fruits)"
      ],
      "metadata": {
        "colab": {
          "base_uri": "https://localhost:8080/"
        },
        "id": "JFoPjcz0C29O",
        "outputId": "5ce932ac-9a71-4bf9-9d21-48a89a746eb4"
      },
      "execution_count": 4,
      "outputs": [
        {
          "output_type": "stream",
          "name": "stdout",
          "text": [
            "['apple', 'grape', 'cherry']\n"
          ]
        }
      ]
    },
    {
      "cell_type": "markdown",
      "source": [
        "4. \"strawberry\" 요소를 추가하세요"
      ],
      "metadata": {
        "id": "k2D77GeZC8vW"
      }
    },
    {
      "cell_type": "code",
      "source": [
        "fruits = [\"apple\",\"banana\",\"cherry\"]\n",
        "fruits.append(\"strawberry\")\n",
        "print(fruits)"
      ],
      "metadata": {
        "colab": {
          "base_uri": "https://localhost:8080/"
        },
        "id": "E0WKmyiEDAeG",
        "outputId": "c51b7c39-9140-41c1-895c-34aecb3796b0"
      },
      "execution_count": 6,
      "outputs": [
        {
          "output_type": "stream",
          "name": "stdout",
          "text": [
            "['apple', 'banana', 'cherry', 'strawberry']\n"
          ]
        }
      ]
    },
    {
      "cell_type": "markdown",
      "source": [
        "5. 30을 제거하세요"
      ],
      "metadata": {
        "id": "dU8adKqLDCi2"
      }
    },
    {
      "cell_type": "code",
      "source": [
        "numbers = [10,20,30,40,50]\n",
        "numbers.remove(30)\n",
        "print(numbers)"
      ],
      "metadata": {
        "colab": {
          "base_uri": "https://localhost:8080/"
        },
        "id": "gxAr-ClxDGCO",
        "outputId": "4ed0a312-a789-4597-9a38-ae6dbaf0e274"
      },
      "execution_count": 8,
      "outputs": [
        {
          "output_type": "stream",
          "name": "stdout",
          "text": [
            "[10, 20, 40, 50]\n"
          ]
        }
      ]
    },
    {
      "cell_type": "code",
      "source": [
        "numbers = [10,20,30,40,50]\n",
        "numbers.pop(2)\n",
        "print(numbers)"
      ],
      "metadata": {
        "colab": {
          "base_uri": "https://localhost:8080/"
        },
        "id": "XyBaEXQEFCTe",
        "outputId": "530aca71-e00d-4f0b-beaf-f82898dfed0e"
      },
      "execution_count": 14,
      "outputs": [
        {
          "output_type": "stream",
          "name": "stdout",
          "text": [
            "[10, 20, 40, 50]\n"
          ]
        }
      ]
    },
    {
      "cell_type": "markdown",
      "source": [
        "6. 다음 리스트의 길이를 출력하세요"
      ],
      "metadata": {
        "id": "gYNvfMLpDQNW"
      }
    },
    {
      "cell_type": "code",
      "source": [
        "numbers = [5,10,15,20,25]\n",
        "print(len(numbers))"
      ],
      "metadata": {
        "colab": {
          "base_uri": "https://localhost:8080/"
        },
        "id": "f4t9xYK-DUH2",
        "outputId": "927674a2-c8e0-4502-d71b-f33061ef1ff6"
      },
      "execution_count": 9,
      "outputs": [
        {
          "output_type": "stream",
          "name": "stdout",
          "text": [
            "5\n"
          ]
        }
      ]
    },
    {
      "cell_type": "markdown",
      "source": [
        "7. 가장 작은 값, 가장 큰 값을 찾아 출력하세요"
      ],
      "metadata": {
        "id": "jFDdFZ-zDamu"
      }
    },
    {
      "cell_type": "code",
      "source": [
        "numbers = [10,5,8,3,15]\n",
        "print(min(numbers))\n",
        "print(max(numbers))"
      ],
      "metadata": {
        "colab": {
          "base_uri": "https://localhost:8080/"
        },
        "id": "HH08g3RxDebO",
        "outputId": "9e52f03a-e8fb-4763-958b-3aeb5cabd36c"
      },
      "execution_count": 10,
      "outputs": [
        {
          "output_type": "stream",
          "name": "stdout",
          "text": [
            "3\n",
            "15\n"
          ]
        }
      ]
    },
    {
      "cell_type": "markdown",
      "source": [
        "8. 모든 요소의 합을 계산하여 출력하세요"
      ],
      "metadata": {
        "id": "QJ7czgN-DkZ1"
      }
    },
    {
      "cell_type": "code",
      "source": [
        "numbers = [10,20,30,40,50]\n",
        "print(sum(numbers))"
      ],
      "metadata": {
        "colab": {
          "base_uri": "https://localhost:8080/"
        },
        "id": "Uijf6iwWDoq-",
        "outputId": "f9f50d36-25d7-4b7d-fea0-5e7a3083cb52"
      },
      "execution_count": 11,
      "outputs": [
        {
          "output_type": "stream",
          "name": "stdout",
          "text": [
            "150\n"
          ]
        }
      ]
    },
    {
      "cell_type": "markdown",
      "source": [
        "9. 모든 요소를 제곱하여 새로운 리스트를 생성하세요"
      ],
      "metadata": {
        "id": "saye3pkjDrv-"
      }
    },
    {
      "cell_type": "code",
      "source": [
        "numbers = [1,2,3,4,5]\n",
        "newlist=[]\n",
        "for num in numbers:\n",
        "  print(num)"
      ],
      "metadata": {
        "colab": {
          "base_uri": "https://localhost:8080/"
        },
        "id": "M0wqGuDqHF6-",
        "outputId": "1cc35936-68c9-4a55-def5-02543b179e01"
      },
      "execution_count": 23,
      "outputs": [
        {
          "output_type": "stream",
          "name": "stdout",
          "text": [
            "1\n",
            "2\n",
            "3\n",
            "4\n",
            "5\n"
          ]
        }
      ]
    },
    {
      "cell_type": "code",
      "source": [
        "numbers = [1,2,3,4,5]\n",
        "newlist=[]\n",
        "for num in numbers:\n",
        "  newlist.append(num)\n",
        "print(newlist)"
      ],
      "metadata": {
        "colab": {
          "base_uri": "https://localhost:8080/"
        },
        "id": "V_LxYJuWDv5G",
        "outputId": "69f55ca9-5d50-44cb-dc32-1603ee1d1257"
      },
      "execution_count": 20,
      "outputs": [
        {
          "output_type": "stream",
          "name": "stdout",
          "text": [
            "[1, 2, 3, 4, 5]\n"
          ]
        }
      ]
    },
    {
      "cell_type": "markdown",
      "source": [
        "-> 제곱만 하면 된다"
      ],
      "metadata": {
        "id": "3nJW_ujVGoUm"
      }
    },
    {
      "cell_type": "code",
      "source": [
        "numbers = [1,2,3,4,5]\n",
        "newlist=[]\n",
        "for num in numbers:\n",
        "  num *= num\n",
        "  newlist.append(num)\n",
        "print(newlist)"
      ],
      "metadata": {
        "colab": {
          "base_uri": "https://localhost:8080/"
        },
        "id": "ZluRUSt2Gqom",
        "outputId": "4779430a-dd05-40f2-b769-0f7d532d1ed4"
      },
      "execution_count": 22,
      "outputs": [
        {
          "output_type": "stream",
          "name": "stdout",
          "text": [
            "[1, 4, 9, 16, 25]\n"
          ]
        }
      ]
    },
    {
      "cell_type": "code",
      "source": [
        "numbers = [1,2,3,4,5]\n",
        "newlist=[]\n",
        "for num in numbers:\n",
        "  newlist.append(num**2)\n",
        "print(newlist)"
      ],
      "metadata": {
        "colab": {
          "base_uri": "https://localhost:8080/"
        },
        "id": "091l35TRNePd",
        "outputId": "8d2dbd1d-aa85-470e-c56c-86823eb877c2"
      },
      "execution_count": 30,
      "outputs": [
        {
          "output_type": "stream",
          "name": "stdout",
          "text": [
            "[1, 4, 9, 16, 25]\n"
          ]
        }
      ]
    },
    {
      "cell_type": "code",
      "source": [
        "#함수 정의\n",
        "def square(numbers):\n",
        "  newlist=[]\n",
        "  for num in numbers:\n",
        "    newlist.append(num**2)\n",
        "  return newlist\n"
      ],
      "metadata": {
        "id": "pp2qRA0-NBCO"
      },
      "execution_count": 39,
      "outputs": []
    },
    {
      "cell_type": "code",
      "source": [
        "#함수로 만들기\n",
        "new = square([1,2,3,4,5])\n",
        "\n",
        "print(new)"
      ],
      "metadata": {
        "colab": {
          "base_uri": "https://localhost:8080/"
        },
        "id": "axizwRaYMvfu",
        "outputId": "7155a1e2-0e29-46b5-ffb0-3371151ea336"
      },
      "execution_count": 40,
      "outputs": [
        {
          "output_type": "stream",
          "name": "stdout",
          "text": [
            "[1, 4, 9, 16, 25]\n"
          ]
        }
      ]
    },
    {
      "cell_type": "markdown",
      "source": [
        "10. \"apple\" 요소의 개수를 출력하세요"
      ],
      "metadata": {
        "id": "6VUd1CXvD0Rf"
      }
    },
    {
      "cell_type": "code",
      "source": [
        "fruits = [\"apple\",\"banana\",\"apple\",\"cherry\",\"apple\"]\n",
        "print(fruits.count(\"apple\"))"
      ],
      "metadata": {
        "colab": {
          "base_uri": "https://localhost:8080/"
        },
        "id": "SniV2bybD6g2",
        "outputId": "fe043c8f-0272-411f-ef38-c257ee22703c"
      },
      "execution_count": 16,
      "outputs": [
        {
          "output_type": "stream",
          "name": "stdout",
          "text": [
            "3\n"
          ]
        }
      ]
    },
    {
      "cell_type": "code",
      "source": [],
      "metadata": {
        "id": "Z7oAjXObE_7u"
      },
      "execution_count": null,
      "outputs": []
    },
    {
      "cell_type": "markdown",
      "source": [
        "함수"
      ],
      "metadata": {
        "id": "O7pLh0GpLIvt"
      }
    },
    {
      "cell_type": "code",
      "source": [
        "#함수정의\n",
        "def square(x):\n",
        "  result = x**2\n",
        "  return result"
      ],
      "metadata": {
        "id": "uBSHoqYBLKV9"
      },
      "execution_count": 25,
      "outputs": []
    },
    {
      "cell_type": "code",
      "source": [
        "def square(x):\n",
        "  return x**2 # return 문에 바로 연산식 써도 됨"
      ],
      "metadata": {
        "id": "gBnN1CE4L4KE"
      },
      "execution_count": null,
      "outputs": []
    },
    {
      "cell_type": "code",
      "source": [
        "#메인 부분 : 함수 사용\n",
        "ret = square(6)\n",
        "print(ret)"
      ],
      "metadata": {
        "colab": {
          "base_uri": "https://localhost:8080/"
        },
        "id": "DVS5dnlaLcQ-",
        "outputId": "3a436ace-8831-4811-e36d-64580bfbf1b1"
      },
      "execution_count": 26,
      "outputs": [
        {
          "output_type": "stream",
          "name": "stdout",
          "text": [
            "36\n"
          ]
        }
      ]
    },
    {
      "cell_type": "code",
      "source": [
        "print(square(6))\n",
        "# 같은 결과"
      ],
      "metadata": {
        "id": "tRsg_Q9hMCSl"
      },
      "execution_count": null,
      "outputs": []
    },
    {
      "cell_type": "code",
      "source": [
        "print(square(6))\n",
        "print(square(10))\n",
        "print(square(15))\n",
        "print(square(20))\n",
        "\n",
        "#squre 코드의 재사용"
      ],
      "metadata": {
        "colab": {
          "base_uri": "https://localhost:8080/"
        },
        "id": "yCpO7ydsLm2O",
        "outputId": "41daefa9-1c7f-4a3a-bdc9-28fd6b89a781"
      },
      "execution_count": 28,
      "outputs": [
        {
          "output_type": "stream",
          "name": "stdout",
          "text": [
            "36\n",
            "100\n",
            "225\n",
            "400\n"
          ]
        }
      ]
    },
    {
      "cell_type": "markdown",
      "source": [
        "실전 문제"
      ],
      "metadata": {
        "id": "0VRTbz0AOyhm"
      }
    },
    {
      "cell_type": "markdown",
      "source": [
        "CM M 주의!!!!!!!!!!!!!!"
      ],
      "metadata": {
        "id": "-_jn-RCcQ1FV"
      }
    },
    {
      "cell_type": "code",
      "source": [
        "def BMI(h,w) :\n",
        "  m = h / 100\n",
        "  bmi = w / m**2\n",
        "  return bmi"
      ],
      "metadata": {
        "id": "HFsPtqXAPJsi"
      },
      "execution_count": 35,
      "outputs": []
    },
    {
      "cell_type": "code",
      "source": [
        "결과 = BMI(190,90)\n",
        "print(결과)"
      ],
      "metadata": {
        "colab": {
          "base_uri": "https://localhost:8080/"
        },
        "id": "q55Yl_WNO0aV",
        "outputId": "f0c200d6-8f0f-4900-81b3-89d696f8294d"
      },
      "execution_count": 36,
      "outputs": [
        {
          "output_type": "stream",
          "name": "stdout",
          "text": [
            "24.930747922437675\n"
          ]
        }
      ]
    }
  ]
}