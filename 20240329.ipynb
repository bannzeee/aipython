{
  "nbformat": 4,
  "nbformat_minor": 0,
  "metadata": {
    "colab": {
      "provenance": []
    },
    "kernelspec": {
      "name": "python3",
      "display_name": "Python 3"
    },
    "language_info": {
      "name": "python"
    }
  },
  "cells": [
    {
      "cell_type": "markdown",
      "source": [
        "1. 분을 입력받아서 시간과 분을 출력하시오\n",
        "\n",
        "\n",
        "---\n",
        "출력 예) 100 -> 1시간 40분\n"
      ],
      "metadata": {
        "id": "TzWlCxKEBdPx"
      }
    },
    {
      "cell_type": "code",
      "source": [
        "m = int(input(\"분을 입력하세요: \"))\n",
        "\n",
        "hours = m // 60\n",
        "minutes = m % 60\n",
        "\n",
        "print('{:d} -> {:d}시간 {:d}분'.format(m,hours,minutes))"
      ],
      "metadata": {
        "colab": {
          "base_uri": "https://localhost:8080/"
        },
        "id": "9MsSHZ1RDk7I",
        "outputId": "3473a6b1-896e-453b-de20-3e906a01d81a"
      },
      "execution_count": 14,
      "outputs": [
        {
          "output_type": "stream",
          "name": "stdout",
          "text": [
            "분을 입력하세요: 100\n",
            "100 -> 1시간 40분\n"
          ]
        }
      ]
    },
    {
      "cell_type": "code",
      "execution_count": 15,
      "metadata": {
        "colab": {
          "base_uri": "https://localhost:8080/"
        },
        "id": "fkRSdROjBaF_",
        "outputId": "6e2cda8e-eaea-4967-d97d-cfa36cdd0b67"
      },
      "outputs": [
        {
          "output_type": "stream",
          "name": "stdout",
          "text": [
            "분을 입력하세요: 100\n",
            "100 -> 1시간 40분\n"
          ]
        }
      ],
      "source": [
        "m = int(input(\"분을 입력하세요: \"))\n",
        "\n",
        "hours = m // 60\n",
        "minutes = m % 60\n",
        "\n",
        "print('%d -> %d시간 %d분'%(m,hours,minutes))"
      ]
    },
    {
      "cell_type": "markdown",
      "source": [
        "2. 섭씨 온도를 입력받아서 화씨온도를 출력하시오\n",
        "\n",
        "---\n",
        "\n",
        "출력 예) 섭씨 31도는 화씨 87.8도 입니다. 계산식) F= C x 1.8 + 32"
      ],
      "metadata": {
        "id": "HxA_A_86BrVJ"
      }
    },
    {
      "cell_type": "code",
      "source": [
        "cel = int(input(\"섭씨온도를 입력하세요 : \"))\n",
        "\n",
        "fah = cel * 1.8 + 32\n",
        "\n",
        "print(\"섭씨 %d도는 화씨 %.1f도 입니다.\"%(cel,fah))"
      ],
      "metadata": {
        "colab": {
          "base_uri": "https://localhost:8080/"
        },
        "id": "RyAxlRCYIX2t",
        "outputId": "45394e8e-3ea4-491f-8b86-02b3283ddacb"
      },
      "execution_count": 19,
      "outputs": [
        {
          "output_type": "stream",
          "name": "stdout",
          "text": [
            "섭씨온도를 입력하세요 : 31\n",
            "섭씨 31도는 화씨 87.8도 입니다.\n"
          ]
        }
      ]
    },
    {
      "cell_type": "code",
      "source": [
        "cel = int(input(\"섭씨온도를 입력하세요 : \"))\n",
        "\n",
        "fah = cel * 1.8 + 32\n",
        "\n",
        "print(\"섭씨 {:d}도는 화씨 {:.1f}도 입니다.\".format(cel,fah))"
      ],
      "metadata": {
        "colab": {
          "base_uri": "https://localhost:8080/"
        },
        "id": "FIznSKjPDSVI",
        "outputId": "08ca013e-d89d-48d4-8485-ddc632d62405"
      },
      "execution_count": 17,
      "outputs": [
        {
          "output_type": "stream",
          "name": "stdout",
          "text": [
            "섭씨온도를 입력하세요 : 31\n",
            "섭씨 31도는 화씨 87.8도 입니다.\n"
          ]
        }
      ]
    },
    {
      "cell_type": "markdown",
      "source": [
        "3. 원의 반지름을 입력받아서 원의 둘레와 면적을 출력하시오\n",
        "\n",
        "---\n",
        "반지름이 15인 원의 둘레 94.2이고 면적은 706.5도 입니다\n"
      ],
      "metadata": {
        "id": "IJW0ffx1B464"
      }
    },
    {
      "cell_type": "code",
      "source": [
        "r = int(input(\"반지름을 입력하세요:\"))\n",
        "Pi = 3.14\n",
        "cir = r * Pi * 2\n",
        "area = (r**2)*Pi\n",
        "\n",
        "print(\"반지름이 {}인 원의 둘레는 {}이고 면적은 {:.1f}입니다\".format(r,cir,area))"
      ],
      "metadata": {
        "colab": {
          "base_uri": "https://localhost:8080/"
        },
        "id": "8ZNCVJqAE3hf",
        "outputId": "33db10dd-d218-4a60-f328-228f4f2c7ade"
      },
      "execution_count": 22,
      "outputs": [
        {
          "output_type": "stream",
          "name": "stdout",
          "text": [
            "반지름을 입력하세요:15\n",
            "반지름이 15인 원의 둘레는 94.2이고 면적은 706.5입니다\n"
          ]
        }
      ]
    },
    {
      "cell_type": "code",
      "source": [
        "r = int(input(\"반지름을 입력하세요:\"))\n",
        "Pi = 3.14\n",
        "cir = r * Pi * 2\n",
        "area = (r**2)*Pi\n",
        "\n",
        "print(\"반지름이 %d인 원의 둘레는 %.1f이고 면적은 %.1f입니다\"%(r,cir,area))"
      ],
      "metadata": {
        "colab": {
          "base_uri": "https://localhost:8080/"
        },
        "id": "BKX-9A1YImJV",
        "outputId": "08dce050-21a0-4744-af02-8b443fe1105c"
      },
      "execution_count": 23,
      "outputs": [
        {
          "output_type": "stream",
          "name": "stdout",
          "text": [
            "반지름을 입력하세요:15\n",
            "반지름이 15인 원의 둘레는 94.2이고 면적은 706.5입니다\n"
          ]
        }
      ]
    }
  ]
}