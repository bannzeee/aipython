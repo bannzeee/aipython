{
  "nbformat": 4,
  "nbformat_minor": 0,
  "metadata": {
    "colab": {
      "provenance": []
    },
    "kernelspec": {
      "name": "python3",
      "display_name": "Python 3"
    },
    "language_info": {
      "name": "python"
    }
  },
  "cells": [
    {
      "cell_type": "code",
      "execution_count": 1,
      "metadata": {
        "colab": {
          "base_uri": "https://localhost:8080/"
        },
        "id": "O2nmitsY3sB3",
        "outputId": "1b865455-dce8-489e-bc87-54fce50e5f30"
      },
      "outputs": [
        {
          "output_type": "stream",
          "name": "stdout",
          "text": [
            "A는 5보다 크다\n",
            "프로그램 종료\n"
          ]
        }
      ],
      "source": [
        "a = 20\n",
        "if a > 5 :\n",
        "  print(\"A는 5보다 크다\")\n",
        "print(\"프로그램 종료\")"
      ]
    },
    {
      "cell_type": "code",
      "source": [
        "a = 5\n",
        "if a > 5 :\n",
        "  print(\"A는 5보다 크다\")\n",
        "  print(\"프로그램 종료\")"
      ],
      "metadata": {
        "id": "M5VyhA4R4RkY"
      },
      "execution_count": 3,
      "outputs": []
    },
    {
      "cell_type": "code",
      "source": [
        "a = 5\n",
        "if a > 5 :\n",
        "  print(\"A는 5보다 크다\")\n",
        "print(\"프로그램 종료\")"
      ],
      "metadata": {
        "colab": {
          "base_uri": "https://localhost:8080/"
        },
        "id": "8DsQVt4b38yx",
        "outputId": "567bc2de-1bf9-4e77-b70e-366e18b7e13b"
      },
      "execution_count": 2,
      "outputs": [
        {
          "output_type": "stream",
          "name": "stdout",
          "text": [
            "프로그램 종료\n"
          ]
        }
      ]
    },
    {
      "cell_type": "markdown",
      "source": [
        "elif"
      ],
      "metadata": {
        "id": "a14XIU3b7zlP"
      }
    },
    {
      "cell_type": "code",
      "source": [
        " a = 10\n",
        "\n",
        " if a > 5 :\n",
        "  print(\"a는 5보다 큽니다\")\n",
        "elif a <= 5 :\n",
        "  print(\"a는 5보다 작거나 같습니다\")"
      ],
      "metadata": {
        "colab": {
          "base_uri": "https://localhost:8080/"
        },
        "id": "C0W9Uhsl4TnI",
        "outputId": "c1ee3161-9cec-4f7f-d1a3-8390e1636142"
      },
      "execution_count": 4,
      "outputs": [
        {
          "output_type": "stream",
          "name": "stdout",
          "text": [
            "a는 5보다 큽니다\n"
          ]
        }
      ]
    },
    {
      "cell_type": "code",
      "source": [
        " a = 5\n",
        "\n",
        " if a > 5 :\n",
        "  print(\"a는 5보다 큽니다\")\n",
        "elif a <= 5 :\n",
        "  print(\"a는 5보다 작거나 같습니다\")"
      ],
      "metadata": {
        "colab": {
          "base_uri": "https://localhost:8080/"
        },
        "id": "0R3klR8N5OlZ",
        "outputId": "efebba7d-7055-4269-c91d-634449548781"
      },
      "execution_count": 5,
      "outputs": [
        {
          "output_type": "stream",
          "name": "stdout",
          "text": [
            "a는 5보다 작거나 같습니다\n"
          ]
        }
      ]
    },
    {
      "cell_type": "code",
      "source": [
        "#a에 할당된 값의 짝수 홀수 여부를 알려주는 프로그램\n",
        "\n",
        "a = 10\n",
        "if a%2 == 0 :\n",
        "  print(\"a는 짝수\")\n",
        "elif a%2 != 0 :\n",
        "  print(\"a는 홀수\")"
      ],
      "metadata": {
        "colab": {
          "base_uri": "https://localhost:8080/"
        },
        "id": "2H-dA6GJ5TqX",
        "outputId": "b0b909c7-bb33-4845-df1e-adaab1603046"
      },
      "execution_count": 7,
      "outputs": [
        {
          "output_type": "stream",
          "name": "stdout",
          "text": [
            "a는 짝수\n"
          ]
        }
      ]
    },
    {
      "cell_type": "code",
      "source": [
        "a = 10\n",
        "if a%2 == 0 :\n",
        "  print(\"a는 짝수\")\n",
        "else:\n",
        "  print(\"a는 홀수\")"
      ],
      "metadata": {
        "colab": {
          "base_uri": "https://localhost:8080/"
        },
        "id": "QVxwD4606EAD",
        "outputId": "c248a5ba-6850-4aa1-ba78-d83d47f64c7f"
      },
      "execution_count": 8,
      "outputs": [
        {
          "output_type": "stream",
          "name": "stdout",
          "text": [
            "a는 짝수\n"
          ]
        }
      ]
    },
    {
      "cell_type": "markdown",
      "source": [
        "else"
      ],
      "metadata": {
        "id": "zOUY6Zvz73sn"
      }
    },
    {
      "cell_type": "code",
      "source": [
        " a = 5\n",
        "\n",
        " if a > 5 :\n",
        "  print(\"a는 5보다 큽니다\")\n",
        "elif a < 5 :\n",
        "  print(\"a는 5보다 작습니다\")\n",
        "else :\n",
        "  print(\"a는 5입니다\")"
      ],
      "metadata": {
        "colab": {
          "base_uri": "https://localhost:8080/"
        },
        "id": "1cDdodWr6tZI",
        "outputId": "040f9fcb-88b1-4774-cdcc-3029e1d0ab2f"
      },
      "execution_count": 12,
      "outputs": [
        {
          "output_type": "stream",
          "name": "stdout",
          "text": [
            "a는 5입니다\n"
          ]
        }
      ]
    },
    {
      "cell_type": "markdown",
      "source": [
        "중첩조건문"
      ],
      "metadata": {
        "id": "ftTeIk_h9W8m"
      }
    },
    {
      "cell_type": "code",
      "source": [
        "a = 10\n",
        "b = 5\n",
        "\n",
        "if a > 5:\n",
        "  if b < 10:\n",
        "    print(\"a는 5보다 크고 b는 10보다 작습니다.\")"
      ],
      "metadata": {
        "colab": {
          "base_uri": "https://localhost:8080/"
        },
        "id": "Gv-IUiGO7mWK",
        "outputId": "feb24e32-5420-4aa2-ccdb-0842dc8eb045"
      },
      "execution_count": 13,
      "outputs": [
        {
          "output_type": "stream",
          "name": "stdout",
          "text": [
            "a는 5보다 크고 b는 10보다 작습니다.\n"
          ]
        }
      ]
    },
    {
      "cell_type": "code",
      "source": [
        "a = 10\n",
        "b = 16\n",
        "\n",
        "if a > 5:\n",
        "  if b < 10:\n",
        "    print(\"a는 5보다 크고 b는 10보다 작습니다.\")"
      ],
      "metadata": {
        "id": "fTsYx9xp9Qvu"
      },
      "execution_count": 14,
      "outputs": []
    },
    {
      "cell_type": "code",
      "source": [
        "#논리연산자 사용\n",
        "a = 10\n",
        "b = 5\n",
        "if a > 5 and b<10:\n",
        "  print(\"a는 5보다 크고 b는 10보다 작습니다.\")"
      ],
      "metadata": {
        "colab": {
          "base_uri": "https://localhost:8080/"
        },
        "id": "EKDOaL4S9U0G",
        "outputId": "dd501c86-4603-4716-b894-e7b3fd1cac36"
      },
      "execution_count": 15,
      "outputs": [
        {
          "output_type": "stream",
          "name": "stdout",
          "text": [
            "a는 5보다 크고 b는 10보다 작습니다.\n"
          ]
        }
      ]
    },
    {
      "cell_type": "markdown",
      "source": [
        "0~100 점수를 입력받아서  90점 이상 a 80점 이상 b 70점 이상 c 60점 이상 d 그 외 f"
      ],
      "metadata": {
        "id": "sPg4PvLM911e"
      }
    },
    {
      "cell_type": "code",
      "source": [
        "score = int(input(\"점수를 입력하세요: \"))\n",
        "\n",
        "if score >= 90:\n",
        "  print(\"A\")\n",
        "elif 80 <= score < 90:\n",
        "  print(\"B\")\n",
        "elif 70 <= score < 80:\n",
        "  print(\"C\")\n",
        "elif ㅊ\n",
        "  print(\"D\")\n",
        "else :\n",
        "  print(\"F\")"
      ],
      "metadata": {
        "colab": {
          "base_uri": "https://localhost:8080/"
        },
        "id": "AYfKdHZ69n2n",
        "outputId": "f6d8db15-677c-4f4c-932e-444bb03102c6"
      },
      "execution_count": 21,
      "outputs": [
        {
          "output_type": "stream",
          "name": "stdout",
          "text": [
            "점수를 입력하세요: 60\n",
            "D\n"
          ]
        }
      ]
    },
    {
      "cell_type": "markdown",
      "source": [
        "순서를 지켜야 함 예를 들어서 60 점 이상은 d 이다를 제일 먼저 입력하면 100점이어도 d가 나온다. (if score >= 60 ) 근데 (if 60 =< score <70:) 를 제일 먼저 넣으면 상관 없음 (제대로 된 범위)"
      ],
      "metadata": {
        "id": "B_3-J4_hAB1W"
      }
    },
    {
      "cell_type": "code",
      "source": [
        "a = [1,2,3,4,5]\n",
        "\n",
        "for i in a:\n",
        "  print(i)"
      ],
      "metadata": {
        "colab": {
          "base_uri": "https://localhost:8080/"
        },
        "id": "UkA85BG9-I_o",
        "outputId": "39908782-28da-4bd2-93ae-252e378a9090"
      },
      "execution_count": 22,
      "outputs": [
        {
          "output_type": "stream",
          "name": "stdout",
          "text": [
            "1\n",
            "2\n",
            "3\n",
            "4\n",
            "5\n"
          ]
        }
      ]
    },
    {
      "cell_type": "code",
      "source": [
        "a = [1,2,3,4,5]\n",
        "\n",
        "for i in a:\n",
        "  print(i, end='')"
      ],
      "metadata": {
        "colab": {
          "base_uri": "https://localhost:8080/"
        },
        "id": "IFqVZm-DFAn1",
        "outputId": "ce88179f-d2d5-4748-bade-537be1c7cd50"
      },
      "execution_count": 25,
      "outputs": [
        {
          "output_type": "stream",
          "name": "stdout",
          "text": [
            "12345"
          ]
        }
      ]
    },
    {
      "cell_type": "markdown",
      "source": [
        "tot 변수 먼저 설정 필수!! / 1 들어가고 tot(0)에 더해지고 그 다음에 2 들어가고 tot(1)에 더해지고.... 반복이 끝난 뒤에!!!!! print"
      ],
      "metadata": {
        "id": "Cpz_nQENGZGb"
      }
    },
    {
      "cell_type": "code",
      "source": [
        "a = [1,2,3,4,5]\n",
        "tot=0\n",
        "for i in a:\n",
        "  print(i)\n",
        "  tot += i\n",
        "print(tot)"
      ],
      "metadata": {
        "colab": {
          "base_uri": "https://localhost:8080/"
        },
        "id": "2ZQUvusiFYeE",
        "outputId": "32d2dee5-1371-478d-a841-1da8aa19df4a"
      },
      "execution_count": 31,
      "outputs": [
        {
          "output_type": "stream",
          "name": "stdout",
          "text": [
            "1\n",
            "2\n",
            "3\n",
            "4\n",
            "5\n",
            "15\n"
          ]
        }
      ]
    },
    {
      "cell_type": "markdown",
      "source": [
        "range 함수"
      ],
      "metadata": {
        "id": "-n2Uv5RXH2tH"
      }
    },
    {
      "cell_type": "code",
      "source": [
        "for i in range(1,11):\n",
        "  print(i)"
      ],
      "metadata": {
        "colab": {
          "base_uri": "https://localhost:8080/"
        },
        "id": "OdaHPbCrF6X8",
        "outputId": "1f189fde-2f61-445e-8692-77c0d69bd025"
      },
      "execution_count": 32,
      "outputs": [
        {
          "output_type": "stream",
          "name": "stdout",
          "text": [
            "1\n",
            "2\n",
            "3\n",
            "4\n",
            "5\n",
            "6\n",
            "7\n",
            "8\n",
            "9\n",
            "10\n"
          ]
        }
      ]
    },
    {
      "cell_type": "code",
      "source": [
        "for i in range(11):\n",
        "  print(i)"
      ],
      "metadata": {
        "colab": {
          "base_uri": "https://localhost:8080/"
        },
        "id": "18WSToVpHzvv",
        "outputId": "bc910b64-adfa-44d9-a82b-a80784dcd3af"
      },
      "execution_count": 33,
      "outputs": [
        {
          "output_type": "stream",
          "name": "stdout",
          "text": [
            "0\n",
            "1\n",
            "2\n",
            "3\n",
            "4\n",
            "5\n",
            "6\n",
            "7\n",
            "8\n",
            "9\n",
            "10\n"
          ]
        }
      ]
    },
    {
      "cell_type": "code",
      "source": [
        "for i in range(1):\n",
        "  print(i)"
      ],
      "metadata": {
        "colab": {
          "base_uri": "https://localhost:8080/"
        },
        "id": "ZZ_hh4TgH97_",
        "outputId": "fce48d21-4589-4e0c-86ad-b4d0a1598fe8"
      },
      "execution_count": 34,
      "outputs": [
        {
          "output_type": "stream",
          "name": "stdout",
          "text": [
            "0\n"
          ]
        }
      ]
    },
    {
      "cell_type": "code",
      "source": [
        "for i in range(1,11,2):\n",
        "  print(i)"
      ],
      "metadata": {
        "colab": {
          "base_uri": "https://localhost:8080/"
        },
        "id": "F3V6SoRIIBGy",
        "outputId": "b32d9f11-0b05-4550-b563-5763896c3ee0"
      },
      "execution_count": 35,
      "outputs": [
        {
          "output_type": "stream",
          "name": "stdout",
          "text": [
            "1\n",
            "3\n",
            "5\n",
            "7\n",
            "9\n"
          ]
        }
      ]
    },
    {
      "cell_type": "markdown",
      "source": [
        "1에서 100사이의 홀수만 출력"
      ],
      "metadata": {
        "id": "xbJ4u-SDIMtz"
      }
    },
    {
      "cell_type": "code",
      "source": [
        "for i in range(1,101,2):\n",
        "  print(i)"
      ],
      "metadata": {
        "colab": {
          "base_uri": "https://localhost:8080/"
        },
        "id": "Xds_M73KIGRC",
        "outputId": "b1478e7e-446d-4868-b3d9-a577ee65d438"
      },
      "execution_count": 37,
      "outputs": [
        {
          "output_type": "stream",
          "name": "stdout",
          "text": [
            "1\n",
            "3\n",
            "5\n",
            "7\n",
            "9\n",
            "11\n",
            "13\n",
            "15\n",
            "17\n",
            "19\n",
            "21\n",
            "23\n",
            "25\n",
            "27\n",
            "29\n",
            "31\n",
            "33\n",
            "35\n",
            "37\n",
            "39\n",
            "41\n",
            "43\n",
            "45\n",
            "47\n",
            "49\n",
            "51\n",
            "53\n",
            "55\n",
            "57\n",
            "59\n",
            "61\n",
            "63\n",
            "65\n",
            "67\n",
            "69\n",
            "71\n",
            "73\n",
            "75\n",
            "77\n",
            "79\n",
            "81\n",
            "83\n",
            "85\n",
            "87\n",
            "89\n",
            "91\n",
            "93\n",
            "95\n",
            "97\n",
            "99\n"
          ]
        }
      ]
    },
    {
      "cell_type": "markdown",
      "source": [
        "continue / break ///  if i%2 == 0:\n",
        "    continue 짝수면 다시 처음으로 돌아가니까 프린트가 안되는거임 !"
      ],
      "metadata": {
        "id": "B83dFhcNJrz6"
      }
    },
    {
      "cell_type": "code",
      "source": [
        "for i in range(1,101):\n",
        "  if i%2 == 0:\n",
        "    continue\n",
        "  print(i)"
      ],
      "metadata": {
        "colab": {
          "base_uri": "https://localhost:8080/"
        },
        "id": "bCJga_SGIXRC",
        "outputId": "563b0d77-7333-4dea-c866-c214fd156ea7"
      },
      "execution_count": 40,
      "outputs": [
        {
          "output_type": "stream",
          "name": "stdout",
          "text": [
            "1\n",
            "3\n",
            "5\n",
            "7\n",
            "9\n",
            "11\n",
            "13\n",
            "15\n",
            "17\n",
            "19\n",
            "21\n",
            "23\n",
            "25\n",
            "27\n",
            "29\n",
            "31\n",
            "33\n",
            "35\n",
            "37\n",
            "39\n",
            "41\n",
            "43\n",
            "45\n",
            "47\n",
            "49\n",
            "51\n",
            "53\n",
            "55\n",
            "57\n",
            "59\n",
            "61\n",
            "63\n",
            "65\n",
            "67\n",
            "69\n",
            "71\n",
            "73\n",
            "75\n",
            "77\n",
            "79\n",
            "81\n",
            "83\n",
            "85\n",
            "87\n",
            "89\n",
            "91\n",
            "93\n",
            "95\n",
            "97\n",
            "99\n"
          ]
        }
      ]
    },
    {
      "cell_type": "code",
      "source": [
        "for i in range (5) :\n",
        "  if i % 2 == 1:\n",
        "    break\n",
        "  print(i)"
      ],
      "metadata": {
        "colab": {
          "base_uri": "https://localhost:8080/"
        },
        "id": "UmdJbSdBJk9C",
        "outputId": "c170c15d-8c80-420d-f397-c42e1df3286f"
      },
      "execution_count": 41,
      "outputs": [
        {
          "output_type": "stream",
          "name": "stdout",
          "text": [
            "0\n"
          ]
        }
      ]
    },
    {
      "cell_type": "markdown",
      "source": [
        "1에서 10까지 짝수의 합"
      ],
      "metadata": {
        "id": "L4PTdEBhKvdS"
      }
    },
    {
      "cell_type": "code",
      "source": [
        "tot=0\n",
        "for i in range(2,11,2):\n",
        "  tot += i\n",
        "print(tot)"
      ],
      "metadata": {
        "colab": {
          "base_uri": "https://localhost:8080/"
        },
        "id": "HOz_fkjAKY0I",
        "outputId": "60e907c3-bcb7-4da1-9aa6-9d9d4d9c2db4"
      },
      "execution_count": 42,
      "outputs": [
        {
          "output_type": "stream",
          "name": "stdout",
          "text": [
            "30\n"
          ]
        }
      ]
    },
    {
      "cell_type": "markdown",
      "source": [
        "1에서 10까지 홀수의 합"
      ],
      "metadata": {
        "id": "mSK8NAyMLNqS"
      }
    },
    {
      "cell_type": "code",
      "source": [
        "tot=0\n",
        "for i in range(1,11,2):\n",
        "  tot += i\n",
        "print(tot)"
      ],
      "metadata": {
        "colab": {
          "base_uri": "https://localhost:8080/"
        },
        "id": "M42fkvBULMVR",
        "outputId": "2da62db3-3230-4165-ac60-705d167a0de8"
      },
      "execution_count": 43,
      "outputs": [
        {
          "output_type": "stream",
          "name": "stdout",
          "text": [
            "25\n"
          ]
        }
      ]
    },
    {
      "cell_type": "markdown",
      "source": [
        "짝수 합, 홀수 합 각각 구하기"
      ],
      "metadata": {
        "id": "xTITUypGMC55"
      }
    },
    {
      "cell_type": "code",
      "source": [
        "tot1 = 0 #짝수 합\n",
        "tot2 = 0 #홀수 합\n",
        "\n",
        "for i in range(1,11):\n",
        "  if i%2 == 0:\n",
        "    tot1 += i\n",
        "  elif i%2 == 1:\n",
        "    tot2 += i\n",
        "\n",
        "print(tot1)\n",
        "print(tot2)"
      ],
      "metadata": {
        "colab": {
          "base_uri": "https://localhost:8080/"
        },
        "id": "mKj2YQA1LXAh",
        "outputId": "fce92dc7-6ad7-4ad3-e73a-e07ff473e96a"
      },
      "execution_count": 45,
      "outputs": [
        {
          "output_type": "stream",
          "name": "stdout",
          "text": [
            "30\n",
            "25\n"
          ]
        }
      ]
    },
    {
      "cell_type": "code",
      "source": [
        "tot1 = 0\n",
        "tot2 = 0\n",
        "\n",
        "for i in range(1,11):\n",
        "  if i%2 == 0:\n",
        "    tot1 += i\n",
        "  else:\n",
        "    tot2 += i\n",
        "\n",
        "print(tot1)\n",
        "print(tot2)"
      ],
      "metadata": {
        "colab": {
          "base_uri": "https://localhost:8080/"
        },
        "id": "m8uf3XpjL8FC",
        "outputId": "e02afe9c-982f-4425-b34a-f9d8e2b8d7d3"
      },
      "execution_count": 46,
      "outputs": [
        {
          "output_type": "stream",
          "name": "stdout",
          "text": [
            "30\n",
            "25\n"
          ]
        }
      ]
    },
    {
      "cell_type": "markdown",
      "source": [
        "하나의 숫자 n를 입력 받아서 때, 1부터 n까지 합을 구하는 프로그램을 작성하시오."
      ],
      "metadata": {
        "id": "zEOzE36rNyIx"
      }
    },
    {
      "cell_type": "code",
      "source": [
        "n = int(input())\n",
        "tot = 0\n",
        "\n",
        "for i in range(1,n+1):\n",
        "  tot += i\n",
        "print(tot)"
      ],
      "metadata": {
        "colab": {
          "base_uri": "https://localhost:8080/"
        },
        "id": "apqO8yaCNzRY",
        "outputId": "e53d64d4-242a-4704-c232-a0b062ee5d59"
      },
      "execution_count": 52,
      "outputs": [
        {
          "output_type": "stream",
          "name": "stdout",
          "text": [
            "10\n",
            "55\n"
          ]
        }
      ]
    },
    {
      "cell_type": "code",
      "source": [],
      "metadata": {
        "id": "BtSKFRM8OGKg"
      },
      "execution_count": null,
      "outputs": []
    }
  ]
}